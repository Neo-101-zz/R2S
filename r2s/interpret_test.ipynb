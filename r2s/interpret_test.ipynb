{
 "cells": [
  {
   "cell_type": "code",
   "execution_count": 1,
   "metadata": {},
   "outputs": [],
   "source": [
    "import pickle\n",
    "\n",
    "import pandas as pd\n",
    "import matplotlib.pyplot as plt\n",
    "%matplotlib inline\n",
    "from sklearn.datasets import load_boston\n",
    "from skater.core.explanations import Interpretation\n",
    "from skater.model import InMemoryModel"
   ]
  },
  {
   "cell_type": "code",
   "execution_count": 2,
   "metadata": {},
   "outputs": [
    {
     "name": "stderr",
     "output_type": "stream",
     "text": [
      "/Users/lujingze/anaconda3/envs/SWFusion/lib/python3.7/site-packages/lightgbm/__init__.py:48: UserWarning: Starting from version 2.2.1, the library file in distribution wheels for macOS is built by the Apple Clang (Xcode_8.3.3) compiler.\n",
      "This means that in case of installing LightGBM from PyPI via the ``pip install lightgbm`` command, you don't need to install the gcc compiler anymore.\n",
      "Instead of that, you need to install the OpenMP library, which is required for running LightGBM on the system with the Apple Clang compiler.\n",
      "You can install the OpenMP library by the following command: ``brew install libomp``.\n",
      "  \"You can install the OpenMP library by the following command: ``brew install libomp``.\", UserWarning)\n"
     ]
    }
   ],
   "source": [
    "with open('/Users/lujingze/Programming/SWFusion/regression/tc/lightgbm/model/na_valid_2.496193/na_valid_2.496193.pkl', 'rb') as f:\n",
    "    lgb_res = pickle.load(f)\n",
    "\n",
    "lgb = lgb_res.model\n",
    "\n",
    "with open('/Users/lujingze/Programming/SWFusion/regression/tc/dataset/original/train_splitted.pkl', 'rb') as f:\n",
    "    train = pickle.load(f)\n",
    "with open('/Users/lujingze/Programming/SWFusion/regression/tc/dataset/original/test.pkl', 'rb') as f:\n",
    "    test = pickle.load(f)\n",
    "\n",
    "y_name = 'smap_windspd'\n",
    "y_train = getattr(train, y_name).reset_index(drop=True)\n",
    "y_test = getattr(test, y_name).reset_index(drop=True)\n",
    "X_train = test.drop([y_name], axis=1).reset_index(drop=True)\n",
    "X_test = test.drop([y_name], axis=1).reset_index(drop=True)"
   ]
  },
  {
   "cell_type": "code",
   "execution_count": 3,
   "metadata": {},
   "outputs": [
    {
     "name": "stdout",
     "output_type": "stream",
     "text": [
      "[76/76] features ████████████████████ Time elapsed: 38 seconds"
     ]
    }
   ],
   "source": [
    "interpreter = Interpretation()\n",
    "interpreter.load_data(X_test)\n",
    "model = InMemoryModel(lgb.predict, examples=X_test)\n",
    "fea_importances = interpreter.feature_importance.feature_importance(model)"
   ]
  },
  {
   "cell_type": "code",
   "execution_count": 4,
   "metadata": {},
   "outputs": [],
   "source": [
    "# interpreter.feature_importance.plot_feature_importance(model, ascending=False)"
   ]
  },
  {
   "cell_type": "code",
   "execution_count": 5,
   "metadata": {},
   "outputs": [],
   "source": [
    "fea_importances.sort_values(ascending=False, inplace=True)"
   ]
  },
  {
   "cell_type": "code",
   "execution_count": 6,
   "metadata": {},
   "outputs": [
    {
     "data": {
      "text/plain": [
       "mean_square_slope_of_waves             0.115203\n",
       "10_metre_wind_speed                    0.100217\n",
       "significant_height_of_wind_waves       0.050187\n",
       "total_column_water                     0.031494\n",
       "vorticity_relative                     0.030868\n",
       "                                         ...   \n",
       "10_metre_u_wind_component              0.004236\n",
       "specific_cloud_liquid_water_content    0.000684\n",
       "fraction_of_cloud_cover                0.000637\n",
       "specific_cloud_ice_water_content       0.000000\n",
       "specific_snow_water_content            0.000000\n",
       "Length: 76, dtype: float64"
      ]
     },
     "execution_count": 6,
     "metadata": {},
     "output_type": "execute_result"
    }
   ],
   "source": [
    "fea_importances"
   ]
  },
  {
   "cell_type": "code",
   "execution_count": null,
   "metadata": {},
   "outputs": [],
   "source": [
    "pdp_features = [('mean_square_slope_of_waves', '10_metre_wind_speed')]\n",
    "interpreter.partial_dependence.plot_partial_dependence(pdp_features, model, grid_resolution=30, n_jobs=2)"
   ]
  },
  {
   "cell_type": "code",
   "execution_count": null,
   "metadata": {},
   "outputs": [],
   "source": []
  },
  {
   "cell_type": "code",
   "execution_count": null,
   "metadata": {},
   "outputs": [],
   "source": []
  }
 ],
 "metadata": {
  "kernelspec": {
   "display_name": "Python 3",
   "language": "python",
   "name": "python3"
  },
  "language_info": {
   "codemirror_mode": {
    "name": "ipython",
    "version": 3
   },
   "file_extension": ".py",
   "mimetype": "text/x-python",
   "name": "python",
   "nbconvert_exporter": "python",
   "pygments_lexer": "ipython3",
   "version": "3.7.7"
  }
 },
 "nbformat": 4,
 "nbformat_minor": 4
}
